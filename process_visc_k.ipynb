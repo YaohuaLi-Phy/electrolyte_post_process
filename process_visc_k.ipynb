{
 "cells": [
  {
   "cell_type": "code",
   "execution_count": 13,
   "metadata": {},
   "outputs": [],
   "source": [
    "import numpy as np\n",
    "import matplotlib.pyplot as plt\n",
    "import pandas as pd\n",
    "import matplotlib as mpl\n",
    "from scipy import stats\n",
    "from scipy.optimize import curve_fit\n",
    "\n",
    "mpl.rcParams['lines.linewidth'] = 2\n",
    "mpl.rcParams['lines.markersize'] = 10\n",
    "# comment the below line because it also change the circle edge width\n",
    "#mpl.rcParams['lines.markeredgewidth'] = 3 # plus cross marker\n",
    "mpl.rcParams['axes.labelsize'] = 25\n",
    "mpl.rcParams['axes.titlesize'] = 25\n",
    "mpl.rcParams['xtick.labelsize'] = 20\n",
    "mpl.rcParams['ytick.labelsize'] = 20\n",
    "#legend\n",
    "#mpl.rcParams['legend.fancybox'] = True\n",
    "mpl.rcParams['legend.numpoints'] = 2 #default 2\n",
    "mpl.rcParams['legend.fontsize'] = 18\n",
    "#figure width or height\n",
    "mpl.rcParams['figure.subplot.left'] = 0.175 #default 0.125\n",
    "mpl.rcParams['figure.subplot.bottom'] = 0.15 #default 0.1\n",
    "mpl.rcParams['figure.figsize'] = 10, 7.5 #default 8, 6\n",
    "\n"
   ]
  },
  {
   "cell_type": "code",
   "execution_count": 65,
   "metadata": {},
   "outputs": [],
   "source": [
    "path='/home/yaohua/Downloads/HW_research/electrolyte/'\n",
    "childPath = '006-L2/'\n",
    "fn='tcaf_fit.xvg'\n",
    "with open(path+childPath+fn) as f:\n",
    "    lines = f.readlines()\n"
   ]
  },
  {
   "cell_type": "code",
   "execution_count": 78,
   "metadata": {},
   "outputs": [
    {
     "name": "stdout",
     "output_type": "stream",
     "text": [
      "Line1: # This file was created Mon Jan 30 17:31:01 2023\n",
      "Line2: # Created by:\n",
      "Line3: #                       :-) GROMACS - gmx tcaf, 2020.6 (-:\n",
      "Line4: #\n",
      "Line5: # Executable:   /public/software/.local/easybuild/software/GROMACS/2020.6-foss-2021a-lmfit/install/bin/gmx\n",
      "Line6: # Data prefix:  /public/software/.local/easybuild/software/GROMACS/2020.6-foss-2021a-lmfit/install\n",
      "Line7: # Working dir:  /home/cloudam/yaohua/electrolyte/006-L2/LigParWorkflow/simulation\n",
      "Line8: # Command line:\n",
      "Line9: #   gmx tcaf -f run.trr -s run.gro -k34\n",
      "Line10: # gmx tcaf is part of G R O M A C S:\n",
      "Line11: #\n",
      "Line12: # Gallium Rubidium Oxygen Manganese Argon Carbon Silicon\n",
      "Line13: #\n",
      "Line14: @    title \"TCAF Fits\"\n",
      "Line15: @    xaxis  label \"Time (ps)\"\n",
      "Line16: @    yaxis  label \"\"\n",
      "Line17: @TYPE xy\n",
      "Line18: 0 1\n",
      "Line19: 0.2 0.990436\n",
      "Line20: 0.4 0.962839\n",
      "Line21: 0.6 0.919019\n",
      "Line22: 0.8 0.860961\n",
      "Line23: 1 0.790779\n",
      "Line24: 1.2 0.710665\n",
      "Line25: 1.4 0.622841\n",
      "Line26: 1.6 0.529516\n",
      "Line27: 1.8 0.432848\n",
      "Line28: 2 0.3349\n",
      "Line29: 2.2 0.237616\n",
      "Line30: 2.4 0.142787\n",
      "Line31: 2.6 0.0520279\n",
      "Line32: 2.8 -0.0332357\n",
      "Line33: 3 -0.111785\n",
      "Line34: 3.2 -0.182616\n",
      "Line35: 3.4 -0.24494\n",
      "Line36: 3.6 -0.298187\n",
      "Line37: 3.8 -0.341999\n",
      "Line38: 4 -0.376221\n",
      "Line39: 4.2 -0.400892\n",
      "Line40: 4.4 -0.416226\n",
      "Line41: 4.6 -0.422602\n",
      "Line42: 4.8 -0.420536\n",
      "Line43: 5 -0.410672\n",
      "Line44: 5.2 -0.393753\n",
      "Line45: 5.4 -0.3706\n",
      "Line46: 5.6 -0.342098\n",
      "Line47: 5.8 -0.309166\n",
      "Line48: 6 -0.272743\n",
      "Line49: 6.2 -0.233766\n",
      "Line50: 6.4 -0.193154\n",
      "Line51: 6.6 -0.151791\n",
      "Line52: 6.8 -0.110513\n",
      "Line53: 7 -0.0700925\n",
      "Line54: 7.2 -0.0312329\n",
      "Line55: 7.4 0.005443\n",
      "Line56: 7.6 0.0393981\n",
      "Line57: 7.8 0.0701852\n",
      "Line58: 8 0.0974484\n",
      "Line59: 8.2 0.120924\n",
      "Line60: 8.4 0.14044\n",
      "Line61: 8.6 0.155908\n",
      "Line62: 8.8 0.167327\n",
      "Line63: 9 0.174768\n",
      "Line64: 9.2 0.178376\n",
      "Line65: 9.4 0.178357\n",
      "Line66: 9.6 0.174968\n",
      "Line67: 9.8 0.168515\n",
      "Line68: 10 0.159339\n",
      "Line69: 10.2 0.147806\n",
      "Line70: 10.4 0.134304\n",
      "Line71: 10.6 0.119228\n",
      "Line72: 10.8 0.102976\n",
      "Line73: 11 0.0859374\n",
      "Line74: 11.2 0.0684914\n",
      "Line75: 11.4 0.0509964\n",
      "Line76: 11.6 0.0337867\n",
      "Line77: 11.8 0.0171669\n",
      "Line78: 12 0.00140913\n",
      "Line79: 12.2 -0.0132505\n",
      "Line80: 12.4 -0.0266134\n",
      "Line81: 12.6 -0.0385196\n",
      "Line82: 12.8 -0.048848\n",
      "Line83: 13 -0.0575162\n",
      "Line84: 13.2 -0.0644789\n",
      "Line85: 13.4 -0.0697262\n",
      "Line86: 13.6 -0.0732815\n",
      "Line87: 13.8 -0.0751983\n",
      "Line88: 14 -0.0755573\n",
      "Line89: 14.2 -0.074463\n",
      "Line90: 14.4 -0.0720399\n",
      "Line91: 14.6 -0.0684284\n",
      "Line92: 14.8 -0.0637817\n",
      "Line93: 15 -0.0582616\n",
      "Line94: 15.2 -0.0520345\n",
      "Line95: 15.4 -0.0452687\n",
      "Line96: 15.6 -0.0381305\n",
      "Line97: 15.8 -0.0307814\n",
      "Line98: 16 -0.0233751\n",
      "Line99: 16.2 -0.0160558\n",
      "Line100: 16.4 -0.00895567\n",
      "Line101: 16.6 -0.00219302\n",
      "Line102: 16.8 0.00412835\n",
      "Line103: 17 0.00992044\n",
      "Line104: 17.2 0.0151117\n",
      "Line105: 17.4 0.0196468\n",
      "Line106: 17.6 0.023487\n",
      "Line107: 17.8 0.0266093\n",
      "Line108: 18 0.0290059\n",
      "Line109: 18.2 0.0306834\n",
      "Line110: 18.4 0.0316613\n",
      "Line111: 18.6 0.0319712\n",
      "Line112: 18.8 0.0316548\n",
      "Line113: 19 0.0307629\n",
      "Line114: 19.2 0.0293534\n",
      "Line115: 19.4 0.0274898\n",
      "Line116: 19.6 0.0252399\n",
      "Line117: 19.8 0.0226736\n",
      "Line118: 20 0.019862\n",
      "Line119: 20.2 0.0168759\n",
      "Line120: 20.4 0.013784\n",
      "Line121: 20.6 0.0106523\n",
      "Line122: 20.8 0.00754292\n",
      "Line123: 21 0.00451296\n",
      "Line124: 21.2 0.00161398\n",
      "Line125: 21.4 -0.00110854\n",
      "Line126: 21.6 -0.00361581\n",
      "Line127: 21.8 -0.00587579\n",
      "Line128: 22 -0.00786341\n",
      "Line129: 22.2 -0.00956058\n",
      "Line130: 22.4 -0.0109559\n",
      "Line131: 22.6 -0.0120447\n",
      "Line132: 22.8 -0.0128282\n",
      "Line133: 23 -0.0133133\n",
      "Line134: 23.2 -0.0135122\n",
      "Line135: 23.4 -0.0134416\n",
      "Line136: 23.6 -0.0131221\n",
      "Line137: 23.8 -0.0125774\n",
      "Line138: 24 -0.011834\n",
      "Line139: 24.2 -0.01092\n",
      "Line140: 24.4 -0.0098649\n",
      "Line141: 24.6 -0.00869872\n",
      "Line142: 24.8 -0.0074514\n",
      "Line143: 25 -0.00615234\n",
      "Line144: &\n",
      "Line145: 0 1\n",
      "Line146: 0.2 0.990704\n",
      "Line147: 0.4 0.963904\n",
      "Line148: 0.6 0.921376\n",
      "Line149: 0.8 0.865055\n",
      "Line150: 1 0.796989\n",
      "Line151: 1.2 0.719289\n",
      "Line152: 1.4 0.634089\n",
      "Line153: 1.6 0.543503\n",
      "Line154: 1.8 0.449591\n",
      "Line155: 2 0.35432\n",
      "Line156: 2.2 0.259539\n",
      "Line157: 2.4 0.166951\n",
      "Line158: 2.6 0.078097\n",
      "Line159: 2.8 -0.00566762\n",
      "Line160: 3 -0.0831784\n"
     ]
    }
   ],
   "source": [
    "count=0\n",
    "for line in lines:\n",
    "    count += 1\n",
    "    print(\"Line{}: {}\".format(count, line.strip()))\n",
    "    if count==160:\n",
    "        break"
   ]
  },
  {
   "cell_type": "code",
   "execution_count": 98,
   "metadata": {},
   "outputs": [],
   "source": [
    "flag = True\n",
    "count = 0\n",
    "newData = []\n",
    "collection = []\n",
    "with open(path+childPath+'tcaf_fit.xvg', 'r') as f:\n",
    "    for _ in range(500):\n",
    "        line = f.readline()\n",
    "        newData.append(line)\n",
    "        if line == '&\\n':\n",
    "            count += 1\n",
    "            collection.append(newData)\n",
    "            newData=[]\n",
    "            continue\n",
    "            \n",
    "        \n",
    "    \n"
   ]
  },
  {
   "cell_type": "code",
   "execution_count": 99,
   "metadata": {},
   "outputs": [
    {
     "data": {
      "text/plain": [
       "3"
      ]
     },
     "execution_count": 99,
     "metadata": {},
     "output_type": "execute_result"
    }
   ],
   "source": [
    "len(collection)"
   ]
  },
  {
   "cell_type": "code",
   "execution_count": 101,
   "metadata": {},
   "outputs": [],
   "source": [
    "with open(path+childPath+'fit2.xvg', 'w') as f:\n",
    "    \n",
    "    for _, line in enumerate(newData):\n",
    "        f.write(line)"
   ]
  },
  {
   "cell_type": "code",
   "execution_count": 76,
   "metadata": {},
   "outputs": [
    {
     "data": {
      "text/plain": [
       "str"
      ]
     },
     "execution_count": 76,
     "metadata": {},
     "output_type": "execute_result"
    }
   ],
   "source": [
    "type(line)"
   ]
  },
  {
   "cell_type": "code",
   "execution_count": 102,
   "metadata": {
    "scrolled": true
   },
   "outputs": [],
   "source": [
    "#data=np.genfromtxt(path+childPath+fn,skip_header=20,skip_footer=1)\n",
    "\n",
    "data2=np.genfromtxt(path+childPath+'fit1.xvg', skip_header=19)\n",
    "data3 = np.genfromtxt(path+childPath+'fit2.xvg', skip_header=0)"
   ]
  },
  {
   "cell_type": "code",
   "execution_count": 103,
   "metadata": {},
   "outputs": [
    {
     "data": {
      "text/plain": [
       "[<matplotlib.lines.Line2D at 0x7f75c192cdc0>]"
      ]
     },
     "execution_count": 103,
     "metadata": {},
     "output_type": "execute_result"
    },
    {
     "data": {
      "image/png": "[encoded data removed]",
      "text/plain": [
       "<Figure size 720x540 with 1 Axes>"
      ]
     },
     "metadata": {
      "needs_background": "light"
     },
     "output_type": "display_data"
    }
   ],
   "source": [
    "plt.scatter(data[:,0], data[:,1])\n",
    "plt.scatter(data[:,0], data[:,5])\n",
    "plt.plot(data2[:,0], data2[:,1])\n",
    "plt.plot(data3[:,0], data3[:,1])"
   ]
  },
  {
   "cell_type": "code",
   "execution_count": 111,
   "metadata": {},
   "outputs": [],
   "source": [
    "path='/home/yaohua/Downloads/HW_research/electrolyte/'\n",
    "childPath = '006-L2/'\n",
    "fn='visc_k2.xvg'\n",
    "with open(path+childPath+fn) as f:\n",
    "    lines = f.readlines()\n"
   ]
  },
  {
   "cell_type": "code",
   "execution_count": 115,
   "metadata": {
    "scrolled": true
   },
   "outputs": [
    {
     "data": {
      "text/plain": [
       "<matplotlib.collections.PathCollection at 0x7f75c144bf40>"
      ]
     },
     "execution_count": 115,
     "metadata": {},
     "output_type": "execute_result"
    },
    {
     "data": {
      "image/png": "[encoded data removed]",
      "text/plain": [
       "<Figure size 400x300 with 1 Axes>"
      ]
     },
     "metadata": {
      "needs_background": "light"
     },
     "output_type": "display_data"
    }
   ],
   "source": [
    "data=np.genfromtxt(path+childPath+fn,skip_header=20,skip_footer=1)\n",
    "x=data[:-1,0]\n",
    "y=data[:-1,1]\n",
    "\n",
    "plt.figure(figsize=(4, 3), dpi=100)\n",
    "plt.scatter(x,y)\n"
   ]
  },
  {
   "cell_type": "code",
   "execution_count": 121,
   "metadata": {},
   "outputs": [],
   "source": [
    "data = np.genfromtxt('/home/yaohua/Downloads/HW_research/electrolyte/Soochow-server/0010-1m-pf6--bf4--27-fdec/visc_k.xvg', skip_header=20)"
   ]
  },
  {
   "cell_type": "code",
   "execution_count": 127,
   "metadata": {},
   "outputs": [],
   "source": [
    "data=np.genfromtxt('/home/yaohua/Downloads/HW_research/HDB_lab/test_acetic_acid/visc_k.xvg',skip_header=20)"
   ]
  },
  {
   "cell_type": "code",
   "execution_count": 130,
   "metadata": {},
   "outputs": [
    {
     "data": {
      "text/plain": [
       "<matplotlib.collections.PathCollection at 0x7f75c0dd4fa0>"
      ]
     },
     "execution_count": 130,
     "metadata": {},
     "output_type": "execute_result"
    },
    {
     "data": {
      "image/png": "[encoded data removed]",
      "text/plain": [
       "<Figure size 400x300 with 1 Axes>"
      ]
     },
     "metadata": {
      "needs_background": "light"
     },
     "output_type": "display_data"
    }
   ],
   "source": [
    "x=data[:-1,0]\n",
    "y=data[:-1,1]\n",
    "\n",
    "plt.figure(figsize=(4, 3), dpi=100)\n",
    "plt.ylim(0,1)\n",
    "plt.scatter(x,y)"
   ]
  },
  {
   "cell_type": "code",
   "execution_count": 116,
   "metadata": {},
   "outputs": [
    {
     "data": {
      "text/plain": [
       "array([2.09614 , 1.98182 , 2.04315 , 1.47375 , 1.40868 , 1.48089 ,\n",
       "       1.45466 , 1.46377 , 1.49254 , 1.24535 , 1.26546 , 1.16609 ,\n",
       "       1.21278 , 1.05884 , 1.02506 , 0.991833, 0.677771, 0.679881,\n",
       "       0.672992, 0.523808, 0.518427, 0.525857])"
      ]
     },
     "execution_count": 116,
     "metadata": {},
     "output_type": "execute_result"
    }
   ],
   "source": [
    "y"
   ]
  },
  {
   "cell_type": "code",
   "execution_count": 123,
   "metadata": {},
   "outputs": [],
   "source": [
    "def func(x, a, b):\n",
    "    return a*(1+b*x*x)"
   ]
  },
  {
   "cell_type": "code",
   "execution_count": 124,
   "metadata": {},
   "outputs": [
    {
     "data": {
      "text/plain": [
       "array([ 1.19858846, -0.04058144])"
      ]
     },
     "execution_count": 124,
     "metadata": {},
     "output_type": "execute_result"
    }
   ],
   "source": [
    "popt, pcov = curve_fit(func, x, y)\n",
    "popt"
   ]
  },
  {
   "cell_type": "code",
   "execution_count": 125,
   "metadata": {},
   "outputs": [
    {
     "data": {
      "image/png": "[encoded data removed]",
      "text/plain": [
       "<Figure size 720x540 with 1 Axes>"
      ]
     },
     "metadata": {
      "needs_background": "light"
     },
     "output_type": "display_data"
    }
   ],
   "source": [
    "xgrid = np.linspace(0, 3, 50)\n",
    "plt.figure()\n",
    "plt.scatter(x, y, label='data')\n",
    "plt.plot(x, func(x, *popt), 'r-', label='fitted')\n",
    "plt.xlabel('k')\n",
    "\n",
    "plt.ylabel('viscosity (10^-3 kg/(m s))')\n",
    "plt.legend()\n",
    "plt.savefig('viscosity-silane10.png')"
   ]
  },
  {
   "cell_type": "code",
   "execution_count": 64,
   "metadata": {},
   "outputs": [
    {
     "ename": "ValueError",
     "evalue": "Some errors were detected !\n    Line #144 (got 1 columns instead of 2)\n    Line #271 (got 1 columns instead of 2)\n    Line #398 (got 1 columns instead of 2)\n    Line #525 (got 1 columns instead of 2)\n    Line #652 (got 1 columns instead of 2)\n    Line #779 (got 1 columns instead of 2)\n    Line #906 (got 1 columns instead of 2)\n    Line #1033 (got 1 columns instead of 2)\n    Line #1160 (got 1 columns instead of 2)\n    Line #1287 (got 1 columns instead of 2)\n    Line #1414 (got 1 columns instead of 2)\n    Line #1541 (got 1 columns instead of 2)\n    Line #1668 (got 1 columns instead of 2)\n    Line #1795 (got 1 columns instead of 2)\n    Line #1922 (got 1 columns instead of 2)\n    Line #2049 (got 1 columns instead of 2)\n    Line #2176 (got 1 columns instead of 2)\n    Line #2303 (got 1 columns instead of 2)\n    Line #2430 (got 1 columns instead of 2)\n    Line #2557 (got 1 columns instead of 2)\n    Line #2684 (got 1 columns instead of 2)\n    Line #2811 (got 1 columns instead of 2)\n    Line #2938 (got 1 columns instead of 2)\n    Line #3065 (got 1 columns instead of 2)",
     "output_type": "error",
     "traceback": [
      "\u001b[0;31m---------------------------------------------------------------------------\u001b[0m",
      "\u001b[0;31mValueError\u001b[0m                                Traceback (most recent call last)",
      "\u001b[0;32m<ipython-input-64-495cda4c6ea4>\u001b[0m in \u001b[0;36m<module>\u001b[0;34m\u001b[0m\n\u001b[1;32m      1\u001b[0m \u001b[0mdata\u001b[0m\u001b[0;34m=\u001b[0m\u001b[0mnp\u001b[0m\u001b[0;34m.\u001b[0m\u001b[0mgenfromtxt\u001b[0m\u001b[0;34m(\u001b[0m\u001b[0mpath\u001b[0m\u001b[0;34m+\u001b[0m\u001b[0mchildPath\u001b[0m\u001b[0;34m+\u001b[0m\u001b[0mfn\u001b[0m\u001b[0;34m,\u001b[0m\u001b[0mskip_header\u001b[0m\u001b[0;34m=\u001b[0m\u001b[0;36m20\u001b[0m\u001b[0;34m,\u001b[0m\u001b[0mskip_footer\u001b[0m\u001b[0;34m=\u001b[0m\u001b[0;36m1\u001b[0m\u001b[0;34m)\u001b[0m\u001b[0;34m\u001b[0m\u001b[0;34m\u001b[0m\u001b[0m\n\u001b[1;32m      2\u001b[0m \u001b[0;34m\u001b[0m\u001b[0m\n\u001b[0;32m----> 3\u001b[0;31m \u001b[0mdata2\u001b[0m\u001b[0;34m=\u001b[0m\u001b[0mnp\u001b[0m\u001b[0;34m.\u001b[0m\u001b[0mgenfromtxt\u001b[0m\u001b[0;34m(\u001b[0m\u001b[0mpath\u001b[0m\u001b[0;34m+\u001b[0m\u001b[0mchildPath\u001b[0m\u001b[0;34m+\u001b[0m\u001b[0;34m'tcaf_fit.xvg'\u001b[0m\u001b[0;34m,\u001b[0m \u001b[0mskip_header\u001b[0m\u001b[0;34m=\u001b[0m\u001b[0;36m20\u001b[0m\u001b[0;34m)\u001b[0m\u001b[0;34m\u001b[0m\u001b[0;34m\u001b[0m\u001b[0m\n\u001b[0m",
      "\u001b[0;32m~/anaconda3/lib/python3.8/site-packages/numpy/lib/npyio.py\u001b[0m in \u001b[0;36mgenfromtxt\u001b[0;34m(fname, dtype, comments, delimiter, skip_header, skip_footer, converters, missing_values, filling_values, usecols, names, excludelist, deletechars, replace_space, autostrip, case_sensitive, defaultfmt, unpack, usemask, loose, invalid_raise, max_rows, encoding)\u001b[0m\n\u001b[1;32m   2101\u001b[0m             \u001b[0;31m# Raise an exception ?\u001b[0m\u001b[0;34m\u001b[0m\u001b[0;34m\u001b[0m\u001b[0;34m\u001b[0m\u001b[0m\n\u001b[1;32m   2102\u001b[0m             \u001b[0;32mif\u001b[0m \u001b[0minvalid_raise\u001b[0m\u001b[0;34m:\u001b[0m\u001b[0;34m\u001b[0m\u001b[0;34m\u001b[0m\u001b[0m\n\u001b[0;32m-> 2103\u001b[0;31m                 \u001b[0;32mraise\u001b[0m \u001b[0mValueError\u001b[0m\u001b[0;34m(\u001b[0m\u001b[0merrmsg\u001b[0m\u001b[0;34m)\u001b[0m\u001b[0;34m\u001b[0m\u001b[0;34m\u001b[0m\u001b[0m\n\u001b[0m\u001b[1;32m   2104\u001b[0m             \u001b[0;31m# Issue a warning ?\u001b[0m\u001b[0;34m\u001b[0m\u001b[0;34m\u001b[0m\u001b[0;34m\u001b[0m\u001b[0m\n\u001b[1;32m   2105\u001b[0m             \u001b[0;32melse\u001b[0m\u001b[0;34m:\u001b[0m\u001b[0;34m\u001b[0m\u001b[0;34m\u001b[0m\u001b[0m\n",
      "\u001b[0;31mValueError\u001b[0m: Some errors were detected !\n    Line #144 (got 1 columns instead of 2)\n    Line #271 (got 1 columns instead of 2)\n    Line #398 (got 1 columns instead of 2)\n    Line #525 (got 1 columns instead of 2)\n    Line #652 (got 1 columns instead of 2)\n    Line #779 (got 1 columns instead of 2)\n    Line #906 (got 1 columns instead of 2)\n    Line #1033 (got 1 columns instead of 2)\n    Line #1160 (got 1 columns instead of 2)\n    Line #1287 (got 1 columns instead of 2)\n    Line #1414 (got 1 columns instead of 2)\n    Line #1541 (got 1 columns instead of 2)\n    Line #1668 (got 1 columns instead of 2)\n    Line #1795 (got 1 columns instead of 2)\n    Line #1922 (got 1 columns instead of 2)\n    Line #2049 (got 1 columns instead of 2)\n    Line #2176 (got 1 columns instead of 2)\n    Line #2303 (got 1 columns instead of 2)\n    Line #2430 (got 1 columns instead of 2)\n    Line #2557 (got 1 columns instead of 2)\n    Line #2684 (got 1 columns instead of 2)\n    Line #2811 (got 1 columns instead of 2)\n    Line #2938 (got 1 columns instead of 2)\n    Line #3065 (got 1 columns instead of 2)"
     ]
    }
   ],
   "source": [
    "data=np.genfromtxt(path+childPath+fn,skip_header=20,skip_footer=1)\n",
    "\n",
    "data2=np.genfromtxt(path+childPath+'tcaf_fit.xvg', skip_header=20)"
   ]
  },
  {
   "cell_type": "code",
   "execution_count": 40,
   "metadata": {},
   "outputs": [],
   "source": [
    "resultFn = 'viscosity.txt'\n",
    "with open(path + resultFn, 'a') as fr:\n",
    "    fr.write(str(popt[0]))\n",
    "\n",
    "with open(path + 'index_visco.txt', 'a') as f:\n",
    "    f.write(childPath)"
   ]
  },
  {
   "cell_type": "code",
   "execution_count": 19,
   "metadata": {},
   "outputs": [
    {
     "ename": "ValueError",
     "evalue": "Inputs must not be empty.",
     "output_type": "error",
     "traceback": [
      "\u001b[1;31m---------------------------------------------------------------------------\u001b[0m",
      "\u001b[1;31mValueError\u001b[0m                                Traceback (most recent call last)",
      "\u001b[1;32m~\\AppData\\Local\\Temp/ipykernel_22948/3471523103.py\u001b[0m in \u001b[0;36m<module>\u001b[1;34m\u001b[0m\n\u001b[0;32m      1\u001b[0m \u001b[0mxx\u001b[0m\u001b[1;33m=\u001b[0m\u001b[0mnp\u001b[0m\u001b[1;33m.\u001b[0m\u001b[0marray\u001b[0m\u001b[1;33m(\u001b[0m\u001b[0mx\u001b[0m\u001b[1;33m)\u001b[0m\u001b[1;33m**\u001b[0m\u001b[1;36m2\u001b[0m\u001b[1;33m\u001b[0m\u001b[1;33m\u001b[0m\u001b[0m\n\u001b[1;32m----> 2\u001b[1;33m \u001b[0mres\u001b[0m\u001b[1;33m=\u001b[0m\u001b[0mstats\u001b[0m\u001b[1;33m.\u001b[0m\u001b[0mlinregress\u001b[0m\u001b[1;33m(\u001b[0m\u001b[0mnewx\u001b[0m\u001b[1;33m,\u001b[0m\u001b[0mnewy\u001b[0m\u001b[1;33m)\u001b[0m\u001b[1;33m\u001b[0m\u001b[1;33m\u001b[0m\u001b[0m\n\u001b[0m\u001b[0;32m      3\u001b[0m \u001b[0mres\u001b[0m\u001b[1;33m.\u001b[0m\u001b[0mintercept\u001b[0m\u001b[1;33m\u001b[0m\u001b[1;33m\u001b[0m\u001b[0m\n",
      "\u001b[1;32m~\\anaconda3\\lib\\site-packages\\scipy\\stats\\_stats_mstats_common.py\u001b[0m in \u001b[0;36mlinregress\u001b[1;34m(x, y, alternative)\u001b[0m\n\u001b[0;32m    144\u001b[0m \u001b[1;33m\u001b[0m\u001b[0m\n\u001b[0;32m    145\u001b[0m     \u001b[1;32mif\u001b[0m \u001b[0mx\u001b[0m\u001b[1;33m.\u001b[0m\u001b[0msize\u001b[0m \u001b[1;33m==\u001b[0m \u001b[1;36m0\u001b[0m \u001b[1;32mor\u001b[0m \u001b[0my\u001b[0m\u001b[1;33m.\u001b[0m\u001b[0msize\u001b[0m \u001b[1;33m==\u001b[0m \u001b[1;36m0\u001b[0m\u001b[1;33m:\u001b[0m\u001b[1;33m\u001b[0m\u001b[1;33m\u001b[0m\u001b[0m\n\u001b[1;32m--> 146\u001b[1;33m         \u001b[1;32mraise\u001b[0m \u001b[0mValueError\u001b[0m\u001b[1;33m(\u001b[0m\u001b[1;34m\"Inputs must not be empty.\"\u001b[0m\u001b[1;33m)\u001b[0m\u001b[1;33m\u001b[0m\u001b[1;33m\u001b[0m\u001b[0m\n\u001b[0m\u001b[0;32m    147\u001b[0m \u001b[1;33m\u001b[0m\u001b[0m\n\u001b[0;32m    148\u001b[0m     \u001b[0mn\u001b[0m \u001b[1;33m=\u001b[0m \u001b[0mlen\u001b[0m\u001b[1;33m(\u001b[0m\u001b[0mx\u001b[0m\u001b[1;33m)\u001b[0m\u001b[1;33m\u001b[0m\u001b[1;33m\u001b[0m\u001b[0m\n",
      "\u001b[1;31mValueError\u001b[0m: Inputs must not be empty."
     ]
    }
   ],
   "source": [
    "xx=np.array(x)**2\n",
    "res=stats.linregress(newx,newy)\n",
    "res.intercept"
   ]
  },
  {
   "cell_type": "code",
   "execution_count": 9,
   "metadata": {},
   "outputs": [
    {
     "data": {
      "text/plain": [
       "0.913141594046064"
      ]
     },
     "execution_count": 9,
     "metadata": {},
     "output_type": "execute_result"
    }
   ],
   "source": [
    "r2=res.rvalue**2\n",
    "r2"
   ]
  },
  {
   "cell_type": "code",
   "execution_count": 10,
   "metadata": {
    "scrolled": false
   },
   "outputs": [
    {
     "data": {
      "image/png": "[encoded data removed]",
      "text/plain": [
       "<Figure size 800x600 with 1 Axes>"
      ]
     },
     "metadata": {
      "needs_background": "light"
     },
     "output_type": "display_data"
    }
   ],
   "source": [
    "plt.figure(figsize=(8, 6), dpi=100)\n",
    "\n",
    "plt.scatter(newx,newy)\n",
    "xx = np.linspace(0,5,100)\n",
    "plt.plot(xx, res.intercept + res.slope*xx, 'r', label='fitted line')\n",
    "#plt.plot(x,data[:,2])\n",
    "#plt.plot(x,data[:,3],'b')\n",
    "#plt.plot(x,data[:,4])\n",
    "#plt.xlim(0, 3)\n",
    "plt.xlabel('k')\n",
    "plt.ylabel('viscosity')\n",
    "plt.savefig(path+'visco_k.png')\n"
   ]
  },
  {
   "cell_type": "code",
   "execution_count": 318,
   "metadata": {},
   "outputs": [
    {
     "data": {
      "text/plain": [
       "4.096000000000001"
      ]
     },
     "execution_count": 318,
     "metadata": {},
     "output_type": "execute_result"
    }
   ],
   "source": [
    "1.6**3"
   ]
  },
  {
   "cell_type": "code",
   "execution_count": 319,
   "metadata": {},
   "outputs": [
    {
     "data": {
      "text/plain": [
       "80.0"
      ]
     },
     "execution_count": 319,
     "metadata": {},
     "output_type": "execute_result"
    }
   ],
   "source": [
    "1.6*50"
   ]
  },
  {
   "cell_type": "code",
   "execution_count": 95,
   "metadata": {},
   "outputs": [
    {
     "data": {
      "image/png": "[encoded data removed]",
      "text/plain": [
       "<Figure size 800x600 with 1 Axes>"
      ]
     },
     "metadata": {
      "needs_background": "light"
     },
     "output_type": "display_data"
    }
   ],
   "source": [
    "fn='type3_2/T400/energy.xvg'\n",
    "data=np.genfromtxt(fn,skip_header=28,skip_footer=1)\n",
    "plt.figure(figsize=(8, 6), dpi=100)\n",
    "\n",
    "plt.plot(data[:,0],data[:,3])\n",
    "plt.xlabel('time(ps)')\n",
    "plt.ylabel('box size (nm)')\n",
    "plt.savefig(path+'boxsize.png')\n",
    "#plt.plot(data[:,0],data[:,2])\n"
   ]
  },
  {
   "cell_type": "code",
   "execution_count": 39,
   "metadata": {},
   "outputs": [
    {
     "data": {
      "text/plain": [
       "(-2000.0, 2000.0)"
      ]
     },
     "execution_count": 39,
     "metadata": {},
     "output_type": "execute_result"
    },
    {
     "data": {
      "image/png": "[encoded data removed]",
      "text/plain": [
       "<Figure size 432x288 with 1 Axes>"
      ]
     },
     "metadata": {
      "needs_background": "light"
     },
     "output_type": "display_data"
    }
   ],
   "source": [
    "plt.plot(x,data[:,2])\n",
    "plt.ylim(-2000,2000)"
   ]
  },
  {
   "cell_type": "code",
   "execution_count": 74,
   "metadata": {},
   "outputs": [
    {
     "data": {
      "text/plain": [
       "[<matplotlib.lines.Line2D at 0x1a14ba881c0>]"
      ]
     },
     "execution_count": 74,
     "metadata": {},
     "output_type": "execute_result"
    },
    {
     "data": {
      "image/png": "[encoded data removed]",
      "text/plain": [
       "<Figure size 432x288 with 1 Axes>"
      ]
     },
     "metadata": {
      "needs_background": "light"
     },
     "output_type": "display_data"
    }
   ],
   "source": [
    "plt.plot(x,data[:,1])\n"
   ]
  },
  {
   "cell_type": "code",
   "execution_count": 33,
   "metadata": {},
   "outputs": [
    {
     "ename": "IndexError",
     "evalue": "index 3 is out of bounds for axis 1 with size 2",
     "output_type": "error",
     "traceback": [
      "\u001b[1;31m---------------------------------------------------------------------------\u001b[0m",
      "\u001b[1;31mIndexError\u001b[0m                                Traceback (most recent call last)",
      "\u001b[1;32m~\\AppData\\Local\\Temp/ipykernel_10808/123333327.py\u001b[0m in \u001b[0;36m<module>\u001b[1;34m\u001b[0m\n\u001b[1;32m----> 1\u001b[1;33m \u001b[0mplt\u001b[0m\u001b[1;33m.\u001b[0m\u001b[0mplot\u001b[0m\u001b[1;33m(\u001b[0m\u001b[0mx\u001b[0m\u001b[1;33m,\u001b[0m\u001b[0mdata\u001b[0m\u001b[1;33m[\u001b[0m\u001b[1;33m:\u001b[0m\u001b[1;33m,\u001b[0m\u001b[1;36m3\u001b[0m\u001b[1;33m]\u001b[0m\u001b[1;33m)\u001b[0m\u001b[1;33m\u001b[0m\u001b[1;33m\u001b[0m\u001b[0m\n\u001b[0m\u001b[0;32m      2\u001b[0m \u001b[0mplt\u001b[0m\u001b[1;33m.\u001b[0m\u001b[0mxlabel\u001b[0m\u001b[1;33m(\u001b[0m\u001b[1;34m'time/s'\u001b[0m\u001b[1;33m)\u001b[0m\u001b[1;33m\u001b[0m\u001b[1;33m\u001b[0m\u001b[0m\n\u001b[0;32m      3\u001b[0m \u001b[0mplt\u001b[0m\u001b[1;33m.\u001b[0m\u001b[0mylabel\u001b[0m\u001b[1;33m(\u001b[0m\u001b[1;34m'system size (nm)'\u001b[0m\u001b[1;33m)\u001b[0m\u001b[1;33m\u001b[0m\u001b[1;33m\u001b[0m\u001b[0m\n",
      "\u001b[1;31mIndexError\u001b[0m: index 3 is out of bounds for axis 1 with size 2"
     ]
    }
   ],
   "source": [
    "plt.plot(x,data[:,3])\n",
    "plt.xlabel('time/s')\n",
    "plt.ylabel('system size (nm)')"
   ]
  },
  {
   "cell_type": "code",
   "execution_count": 85,
   "metadata": {},
   "outputs": [],
   "source": [
    "str1 = \"this is string example....wow!!!\";\n",
    "str2 = \"exam\";\n",
    " \n"
   ]
  },
  {
   "cell_type": "raw",
   "metadata": {},
   "source": [
    "idx=str1.find('exam')"
   ]
  },
  {
   "cell_type": "code",
   "execution_count": 87,
   "metadata": {},
   "outputs": [],
   "source": [
    "idx=str1.find('exam')"
   ]
  },
  {
   "cell_type": "code",
   "execution_count": 88,
   "metadata": {},
   "outputs": [
    {
     "data": {
      "text/plain": [
       "15"
      ]
     },
     "execution_count": 88,
     "metadata": {},
     "output_type": "execute_result"
    }
   ],
   "source": [
    "idx"
   ]
  },
  {
   "cell_type": "code",
   "execution_count": 173,
   "metadata": {},
   "outputs": [],
   "source": [
    "\n",
    "        "
   ]
  },
  {
   "cell_type": "code",
   "execution_count": 174,
   "metadata": {},
   "outputs": [],
   "source": [
    "sol=Solution()"
   ]
  },
  {
   "cell_type": "code",
   "execution_count": 182,
   "metadata": {},
   "outputs": [
    {
     "name": "stdout",
     "output_type": "stream",
     "text": [
      "17\n",
      "left part\n",
      "cumulative=0\n",
      "[-1, 0, 3, 5, 6, 7, 8, 9]\n",
      "left part\n",
      "cumulative=0\n",
      "[-1, 0, 3, 5]\n",
      "right part\n",
      "cumulative=3\n",
      "[5]\n"
     ]
    }
   ],
   "source": [
    "nums = [-1,0,3,5,6,7,8,9,11,13,14,15,16,17,18,19,20]\n",
    "print(len(nums))\n",
    "index = sol.search(nums,4,0)\n",
    "index"
   ]
  },
  {
   "cell_type": "code",
   "execution_count": 184,
   "metadata": {},
   "outputs": [
    {
     "name": "stdout",
     "output_type": "stream",
     "text": [
      "put a lineha ha I am an idiet an idiet idiet\n"
     ]
    }
   ],
   "source": [
    "count=dict()\n",
    "line=input('put a line')\n",
    "words=line.split()\n",
    "for word in words:\n",
    "    count[word] = count.get(word, 0) + 1\n",
    "    "
   ]
  },
  {
   "cell_type": "code",
   "execution_count": 185,
   "metadata": {},
   "outputs": [
    {
     "data": {
      "text/plain": [
       "{'ha': 2, 'I': 1, 'am': 1, 'an': 2, 'idiet': 3}"
      ]
     },
     "execution_count": 185,
     "metadata": {},
     "output_type": "execute_result"
    }
   ],
   "source": [
    "count"
   ]
  },
  {
   "cell_type": "code",
   "execution_count": 208,
   "metadata": {},
   "outputs": [],
   "source": []
  },
  {
   "cell_type": "code",
   "execution_count": 209,
   "metadata": {},
   "outputs": [],
   "source": []
  },
  {
   "cell_type": "code",
   "execution_count": 210,
   "metadata": {},
   "outputs": [
    {
     "name": "stdout",
     "output_type": "stream",
     "text": [
      "3\n",
      "4\n"
     ]
    },
    {
     "data": {
      "text/plain": [
       "3"
      ]
     },
     "execution_count": 210,
     "metadata": {},
     "output_type": "execute_result"
    }
   ],
   "source": [
    "sol=Solution()\n",
    "sol.firstBadVersion(6)"
   ]
  },
  {
   "cell_type": "code",
   "execution_count": null,
   "metadata": {},
   "outputs": [],
   "source": [
    "from Bio.PDB import *\n",
    "import nglview as nv\n",
    "import ipywidgets"
   ]
  },
  {
   "cell_type": "code",
   "execution_count": 57,
   "metadata": {},
   "outputs": [
    {
     "name": "stdout",
     "output_type": "stream",
     "text": [
      "0\n",
      "1\n",
      "2\n",
      "3\n",
      "4\n",
      "5\n",
      "foo\n"
     ]
    }
   ],
   "source": [
    "name = 'huawei'\n",
    "for i,s in enumerate(name):\n",
    "    print(i)\n",
    "else:\n",
    "    print('foo')"
   ]
  },
  {
   "cell_type": "code",
   "execution_count": 58,
   "metadata": {},
   "outputs": [
    {
     "ename": "NameError",
     "evalue": "name 'self_name' is not defined",
     "output_type": "error",
     "traceback": [
      "\u001b[1;31m---------------------------------------------------------------------------\u001b[0m",
      "\u001b[1;31mNameError\u001b[0m                                 Traceback (most recent call last)",
      "\u001b[1;32m~\\AppData\\Local\\Temp/ipykernel_20924/3377256709.py\u001b[0m in \u001b[0;36m<module>\u001b[1;34m\u001b[0m\n\u001b[0;32m     13\u001b[0m \u001b[0mfoo\u001b[0m \u001b[1;33m=\u001b[0m \u001b[0mFoo\u001b[0m\u001b[1;33m(\u001b[0m\u001b[1;34m'Hello'\u001b[0m\u001b[1;33m)\u001b[0m\u001b[1;33m\u001b[0m\u001b[1;33m\u001b[0m\u001b[0m\n\u001b[0;32m     14\u001b[0m \u001b[0mbar\u001b[0m\u001b[1;33m=\u001b[0m\u001b[0mBar\u001b[0m\u001b[1;33m(\u001b[0m\u001b[1;34m'Hello'\u001b[0m\u001b[1;33m)\u001b[0m\u001b[1;33m\u001b[0m\u001b[1;33m\u001b[0m\u001b[0m\n\u001b[1;32m---> 15\u001b[1;33m \u001b[0mprint\u001b[0m\u001b[1;33m(\u001b[0m\u001b[0mfoo\u001b[0m\u001b[1;33m==\u001b[0m\u001b[0mbar\u001b[0m\u001b[1;33m)\u001b[0m\u001b[1;33m\u001b[0m\u001b[1;33m\u001b[0m\u001b[0m\n\u001b[0m\u001b[0;32m     16\u001b[0m \u001b[0mprint\u001b[0m\u001b[1;33m(\u001b[0m\u001b[0mbar\u001b[0m\u001b[1;33m==\u001b[0m\u001b[0mfoo\u001b[0m\u001b[1;33m)\u001b[0m\u001b[1;33m\u001b[0m\u001b[1;33m\u001b[0m\u001b[0m\n",
      "\u001b[1;32m~\\AppData\\Local\\Temp/ipykernel_20924/3377256709.py\u001b[0m in \u001b[0;36m__eq__\u001b[1;34m(self, other)\u001b[0m\n\u001b[0;32m     10\u001b[0m \u001b[1;32mclass\u001b[0m \u001b[0mBar\u001b[0m\u001b[1;33m(\u001b[0m\u001b[0mFoo\u001b[0m\u001b[1;33m)\u001b[0m\u001b[1;33m:\u001b[0m\u001b[1;33m\u001b[0m\u001b[1;33m\u001b[0m\u001b[0m\n\u001b[0;32m     11\u001b[0m    \u001b[1;32mdef\u001b[0m \u001b[0m__eq__\u001b[0m\u001b[1;33m(\u001b[0m\u001b[0mself\u001b[0m\u001b[1;33m,\u001b[0m\u001b[0mother\u001b[0m\u001b[1;33m)\u001b[0m\u001b[1;33m:\u001b[0m\u001b[1;33m\u001b[0m\u001b[1;33m\u001b[0m\u001b[0m\n\u001b[1;32m---> 12\u001b[1;33m        \u001b[1;32mreturn\u001b[0m \u001b[0mstr\u001b[0m\u001b[1;33m(\u001b[0m\u001b[0mself\u001b[0m\u001b[1;33m)\u001b[0m\u001b[1;33m==\u001b[0m\u001b[0mstr\u001b[0m\u001b[1;33m(\u001b[0m\u001b[0mother\u001b[0m\u001b[1;33m)\u001b[0m\u001b[1;33m\u001b[0m\u001b[1;33m\u001b[0m\u001b[0m\n\u001b[0m\u001b[0;32m     13\u001b[0m \u001b[0mfoo\u001b[0m \u001b[1;33m=\u001b[0m \u001b[0mFoo\u001b[0m\u001b[1;33m(\u001b[0m\u001b[1;34m'Hello'\u001b[0m\u001b[1;33m)\u001b[0m\u001b[1;33m\u001b[0m\u001b[1;33m\u001b[0m\u001b[0m\n\u001b[0;32m     14\u001b[0m \u001b[0mbar\u001b[0m\u001b[1;33m=\u001b[0m\u001b[0mBar\u001b[0m\u001b[1;33m(\u001b[0m\u001b[1;34m'Hello'\u001b[0m\u001b[1;33m)\u001b[0m\u001b[1;33m\u001b[0m\u001b[1;33m\u001b[0m\u001b[0m\n",
      "\u001b[1;32m~\\AppData\\Local\\Temp/ipykernel_20924/3377256709.py\u001b[0m in \u001b[0;36m__str__\u001b[1;34m(self)\u001b[0m\n\u001b[0;32m      4\u001b[0m \u001b[1;33m\u001b[0m\u001b[0m\n\u001b[0;32m      5\u001b[0m        \u001b[1;32mdef\u001b[0m \u001b[0m__str__\u001b[0m\u001b[1;33m(\u001b[0m\u001b[0mself\u001b[0m\u001b[1;33m)\u001b[0m\u001b[1;33m:\u001b[0m\u001b[1;33m\u001b[0m\u001b[1;33m\u001b[0m\u001b[0m\n\u001b[1;32m----> 6\u001b[1;33m            \u001b[1;32mreturn\u001b[0m \u001b[0mself_name\u001b[0m\u001b[1;33m\u001b[0m\u001b[1;33m\u001b[0m\u001b[0m\n\u001b[0m\u001b[0;32m      7\u001b[0m        \u001b[1;32mdef\u001b[0m \u001b[0m__eq__\u001b[0m\u001b[1;33m(\u001b[0m\u001b[0mself\u001b[0m\u001b[1;33m,\u001b[0m\u001b[0mother\u001b[0m\u001b[1;33m)\u001b[0m\u001b[1;33m:\u001b[0m\u001b[1;33m\u001b[0m\u001b[1;33m\u001b[0m\u001b[0m\n\u001b[0;32m      8\u001b[0m            \u001b[1;32mreturn\u001b[0m \u001b[0mself\u001b[0m \u001b[1;32mis\u001b[0m \u001b[0mother\u001b[0m\u001b[1;33m\u001b[0m\u001b[1;33m\u001b[0m\u001b[0m\n",
      "\u001b[1;31mNameError\u001b[0m: name 'self_name' is not defined"
     ]
    }
   ],
   "source": [
    " class Foo:\n",
    "        def __init__(self, name):\n",
    "            self._name = name\n",
    "            \n",
    "        def __str__(self):\n",
    "            return self_name\n",
    "        def __eq__(self, other):\n",
    "            return self is other\n",
    "        \n",
    "class Bar(Foo):\n",
    "    def __eq__(self,other):\n",
    "        return str(self)==str(other)\n",
    "foo = Foo('Hello')\n",
    "bar=Bar('Hello')\n",
    "print(foo==bar)\n",
    "print(bar==foo)"
   ]
  },
  {
   "cell_type": "code",
   "execution_count": 61,
   "metadata": {},
   "outputs": [
    {
     "ename": "TypeError",
     "evalue": "object of type 'generator' has no len()",
     "output_type": "error",
     "traceback": [
      "\u001b[1;31m---------------------------------------------------------------------------\u001b[0m",
      "\u001b[1;31mTypeError\u001b[0m                                 Traceback (most recent call last)",
      "\u001b[1;32m~\\AppData\\Local\\Temp/ipykernel_20924/146624136.py\u001b[0m in \u001b[0;36m<module>\u001b[1;34m\u001b[0m\n\u001b[0;32m      4\u001b[0m \u001b[1;33m\u001b[0m\u001b[0m\n\u001b[0;32m      5\u001b[0m \u001b[0mm\u001b[0m\u001b[1;33m=\u001b[0m\u001b[0mfunc\u001b[0m\u001b[1;33m(\u001b[0m\u001b[1;36m3\u001b[0m\u001b[1;33m)\u001b[0m\u001b[1;33m\u001b[0m\u001b[1;33m\u001b[0m\u001b[0m\n\u001b[1;32m----> 6\u001b[1;33m \u001b[0mprint\u001b[0m\u001b[1;33m(\u001b[0m\u001b[0mlen\u001b[0m\u001b[1;33m(\u001b[0m\u001b[0mm\u001b[0m\u001b[1;33m)\u001b[0m\u001b[1;33m)\u001b[0m\u001b[1;33m\u001b[0m\u001b[1;33m\u001b[0m\u001b[0m\n\u001b[0m\u001b[0;32m      7\u001b[0m \u001b[1;32mfor\u001b[0m \u001b[0mx\u001b[0m \u001b[1;32min\u001b[0m \u001b[0mm\u001b[0m\u001b[1;33m:\u001b[0m\u001b[1;33m\u001b[0m\u001b[1;33m\u001b[0m\u001b[0m\n\u001b[0;32m      8\u001b[0m     \u001b[0mprint\u001b[0m\u001b[1;33m(\u001b[0m\u001b[0mx\u001b[0m\u001b[1;33m,\u001b[0m \u001b[0mend\u001b[0m\u001b[1;33m=\u001b[0m\u001b[1;34m' '\u001b[0m\u001b[1;33m)\u001b[0m\u001b[1;33m\u001b[0m\u001b[1;33m\u001b[0m\u001b[0m\n",
      "\u001b[1;31mTypeError\u001b[0m: object of type 'generator' has no len()"
     ]
    }
   ],
   "source": [
    "def func(x):\n",
    "    x = yield x\n",
    "    x=yield x\n",
    "    \n",
    "m=func(3)\n",
    " \n",
    "for x in m:\n",
    "    print(x, end=' ')"
   ]
  },
  {
   "cell_type": "code",
   "execution_count": 65,
   "metadata": {},
   "outputs": [],
   "source": [
    "stuple = ('H',4,5)"
   ]
  },
  {
   "cell_type": "code",
   "execution_count": 66,
   "metadata": {},
   "outputs": [
    {
     "name": "stdout",
     "output_type": "stream",
     "text": [
      "a=H,b4,c5\n"
     ]
    }
   ],
   "source": [
    "print('a={0},b{1},c{2}'.format(*stuple))"
   ]
  },
  {
   "cell_type": "code",
   "execution_count": 67,
   "metadata": {},
   "outputs": [
    {
     "data": {
      "text/plain": [
       "3"
      ]
     },
     "execution_count": 67,
     "metadata": {},
     "output_type": "execute_result"
    }
   ],
   "source": [
    "a=[1,2,3]\n",
    "a.pop()"
   ]
  },
  {
   "cell_type": "code",
   "execution_count": 68,
   "metadata": {},
   "outputs": [
    {
     "data": {
      "text/plain": [
       "b'\\xe5\\x8c\\x97\\xe4\\xba\\xac'"
      ]
     },
     "execution_count": 68,
     "metadata": {},
     "output_type": "execute_result"
    }
   ],
   "source": [
    "'北京'.encode()"
   ]
  },
  {
   "cell_type": "code",
   "execution_count": 69,
   "metadata": {},
   "outputs": [
    {
     "ename": "AttributeError",
     "evalue": "'str' object has no attribute 'decode'",
     "output_type": "error",
     "traceback": [
      "\u001b[1;31m---------------------------------------------------------------------------\u001b[0m",
      "\u001b[1;31mAttributeError\u001b[0m                            Traceback (most recent call last)",
      "\u001b[1;32m~\\AppData\\Local\\Temp/ipykernel_20924/3138784852.py\u001b[0m in \u001b[0;36m<module>\u001b[1;34m\u001b[0m\n\u001b[1;32m----> 1\u001b[1;33m \u001b[1;34m'北京'\u001b[0m\u001b[1;33m.\u001b[0m\u001b[0mdecode\u001b[0m\u001b[1;33m(\u001b[0m\u001b[1;33m)\u001b[0m\u001b[1;33m\u001b[0m\u001b[1;33m\u001b[0m\u001b[0m\n\u001b[0m",
      "\u001b[1;31mAttributeError\u001b[0m: 'str' object has no attribute 'decode'"
     ]
    }
   ],
   "source": [
    "'北京'.decode()"
   ]
  },
  {
   "cell_type": "code",
   "execution_count": 70,
   "metadata": {},
   "outputs": [],
   "source": [
    "test =  {\"a\",\"b\"}"
   ]
  },
  {
   "cell_type": "code",
   "execution_count": 71,
   "metadata": {},
   "outputs": [
    {
     "ename": "TypeError",
     "evalue": "'set' object is not subscriptable",
     "output_type": "error",
     "traceback": [
      "\u001b[1;31m---------------------------------------------------------------------------\u001b[0m",
      "\u001b[1;31mTypeError\u001b[0m                                 Traceback (most recent call last)",
      "\u001b[1;32m~\\AppData\\Local\\Temp/ipykernel_20924/2118927784.py\u001b[0m in \u001b[0;36m<module>\u001b[1;34m\u001b[0m\n\u001b[1;32m----> 1\u001b[1;33m \u001b[0mtest\u001b[0m\u001b[1;33m[\u001b[0m\u001b[1;36m0\u001b[0m\u001b[1;33m]\u001b[0m\u001b[1;33m\u001b[0m\u001b[1;33m\u001b[0m\u001b[0m\n\u001b[0m",
      "\u001b[1;31mTypeError\u001b[0m: 'set' object is not subscriptable"
     ]
    }
   ],
   "source": [
    "test[0]"
   ]
  },
  {
   "cell_type": "code",
   "execution_count": 72,
   "metadata": {},
   "outputs": [
    {
     "data": {
      "text/plain": [
       "230230230.0"
      ]
     },
     "execution_count": 72,
     "metadata": {},
     "output_type": "execute_result"
    }
   ],
   "source": [
    "float(\"230\"*int('3'))"
   ]
  },
  {
   "cell_type": "code",
   "execution_count": 75,
   "metadata": {},
   "outputs": [
    {
     "data": {
      "text/plain": [
       "8"
      ]
     },
     "execution_count": 75,
     "metadata": {},
     "output_type": "execute_result"
    }
   ],
   "source": [
    "(2)<<2"
   ]
  },
  {
   "cell_type": "code",
   "execution_count": null,
   "metadata": {},
   "outputs": [],
   "source": []
  }
 ],
 "metadata": {
  "kernelspec": {
   "display_name": "Python 3",
   "language": "python",
   "name": "python3"
  },
  "language_info": {
   "codemirror_mode": {
    "name": "ipython",
    "version": 3
   },
   "file_extension": ".py",
   "mimetype": "text/x-python",
   "name": "python",
   "nbconvert_exporter": "python",
   "pygments_lexer": "ipython3",
   "version": "3.8.3"
  }
 },
 "nbformat": 4,
 "nbformat_minor": 5
}
